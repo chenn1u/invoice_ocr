{
 "cells": [
  {
   "cell_type": "code",
   "execution_count": 1,
   "id": "95a1a339",
   "metadata": {},
   "outputs": [
    {
     "name": "stderr",
     "output_type": "stream",
     "text": [
      "/Users/nchen/miniconda3/envs/invoice/lib/python3.10/site-packages/tqdm/auto.py:22: TqdmWarning: IProgress not found. Please update jupyter and ipywidgets. See https://ipywidgets.readthedocs.io/en/stable/user_install.html\n",
      "  from .autonotebook import tqdm as notebook_tqdm\n"
     ]
    }
   ],
   "source": [
    "from cnocr import CnOcr"
   ]
  },
  {
   "cell_type": "markdown",
   "id": "b4249bea",
   "metadata": {},
   "source": [
    "# Cnocr"
   ]
  },
  {
   "cell_type": "markdown",
   "id": "bdc8973f",
   "metadata": {},
   "source": [
    "## 单行文字识别"
   ]
  },
  {
   "cell_type": "code",
   "execution_count": 5,
   "id": "baa142a4",
   "metadata": {},
   "outputs": [
    {
     "name": "stdout",
     "output_type": "stream",
     "text": [
      "{'text': '江苏苏州农村商业银行股份有限公司', 'score': 0.9875372052192688}\n"
     ]
    }
   ],
   "source": [
    "img_fp = 'Snipaste.png'\n",
    "ocr = CnOcr()\n",
    "out = ocr.ocr_for_single_line(img_fp)\n",
    "print(out)"
   ]
  },
  {
   "cell_type": "markdown",
   "id": "90880749",
   "metadata": {},
   "source": [
    "## 简单印刷体识别"
   ]
  },
  {
   "cell_type": "code",
   "execution_count": 11,
   "id": "75565e5d",
   "metadata": {},
   "outputs": [
    {
     "name": "stdout",
     "output_type": "stream",
     "text": [
      "[{'text': '661715062959', 'score': 0.9630435109138489}]\n"
     ]
    }
   ],
   "source": [
    "from cnocr import CnOcr\n",
    "\n",
    "img_fp = 'd.jpg'\n",
    "ocr = CnOcr(det_model_name='naive_det') \n",
    "out = ocr.ocr(img_fp)\n",
    "\n",
    "print(out)"
   ]
  },
  {
   "cell_type": "markdown",
   "id": "58691655",
   "metadata": {},
   "source": [
    "# Invoice"
   ]
  },
  {
   "cell_type": "markdown",
   "id": "d9900405",
   "metadata": {},
   "source": [
    "## PDF2JPG"
   ]
  },
  {
   "cell_type": "code",
   "execution_count": 64,
   "id": "0df545b4",
   "metadata": {},
   "outputs": [],
   "source": [
    "from pdf2image import convert_from_path\n",
    "\n",
    "images = convert_from_path('Pencil发票.pdf')\n",
    " \n",
    "for i in range(len(images)):\n",
    "    images[i].save('./temp/page'+ str(i) +'.jpg', 'JPEG')"
   ]
  },
  {
   "cell_type": "markdown",
   "id": "c0a76cfc",
   "metadata": {},
   "source": [
    "## 截取要素"
   ]
  },
  {
   "cell_type": "code",
   "execution_count": 16,
   "id": "a2b20b85",
   "metadata": {},
   "outputs": [],
   "source": [
    "import os"
   ]
  },
  {
   "cell_type": "code",
   "execution_count": 66,
   "id": "aa57568a",
   "metadata": {},
   "outputs": [
    {
     "data": {
      "text/plain": [
       "0"
      ]
     },
     "execution_count": 66,
     "metadata": {},
     "output_type": "execute_result"
    }
   ],
   "source": [
    "os.system('mkdir -p temp')\n",
    "os.system('convert ./temp/page0.jpg -crop 165x44+193+167 ./temp/Machine_id.jpg')\n",
    "os.system('convert ./temp/page0.jpg -crop 636x42+290+238 ./temp/Purchaser_name.jpg')\n",
    "os.system('convert ./temp/page0.jpg -crop 636x45+290+266 ./temp/Purchaser_id.jpg')\n",
    "os.system('convert ./temp/page0.jpg -crop 333x42+1315+18 ./temp/Invoice_code.jpg')\n",
    "os.system('convert ./temp/page0.jpg -crop 333x42+1315+75 ./temp/Invoice_id.jpg')\n",
    "os.system('convert ./temp/page0.jpg -crop 333x42+1315+128 ./temp/Date.jpg')\n",
    "os.system('convert ./temp/page0.jpg -crop 395x256+65+440 ./temp/Commodity.jpg')\n",
    "os.system('convert ./temp/page0.jpg -crop 636x42+288+815 ./temp/Seller_name.jpg')\n",
    "os.system('convert ./temp/page0.jpg -crop 636x42+288+854 ./temp/Seller_id.jpg')\n",
    "os.system('convert ./temp/page0.jpg -crop 245x36+1088+710 ./temp/Amount_before_tax.jpg')\n",
    "os.system('convert ./temp/page0.jpg -crop 245x36+1399+710 ./temp/Tax.jpg')\n",
    "os.system('convert ./temp/page0.jpg -crop 310x53+1320+750 ./temp/Amount.jpg')"
   ]
  },
  {
   "cell_type": "markdown",
   "id": "4abbe573",
   "metadata": {},
   "source": [
    "## 获取要素"
   ]
  },
  {
   "cell_type": "code",
   "execution_count": 67,
   "id": "8da77449",
   "metadata": {},
   "outputs": [
    {
     "data": {
      "text/plain": [
       "'661911895413'"
      ]
     },
     "execution_count": 67,
     "metadata": {},
     "output_type": "execute_result"
    }
   ],
   "source": [
    "# Machine_id\n",
    "ocr.ocr('./temp/Machine_id.jpg')[0]['text'].replace(\" \", \"\")"
   ]
  },
  {
   "cell_type": "code",
   "execution_count": 68,
   "id": "587bf22b",
   "metadata": {},
   "outputs": [
    {
     "data": {
      "text/plain": [
       "'个人'"
      ]
     },
     "execution_count": 68,
     "metadata": {},
     "output_type": "execute_result"
    }
   ],
   "source": [
    "# Purchaser_name\n",
    "ocr.ocr('./temp/Purchaser_name.jpg')[0]['text'].replace(\" \", \"\")"
   ]
  },
  {
   "cell_type": "code",
   "execution_count": 72,
   "id": "962fb40e",
   "metadata": {},
   "outputs": [
    {
     "name": "stdout",
     "output_type": "stream",
     "text": [
      "\n"
     ]
    }
   ],
   "source": [
    "# Purchaser_id\n",
    "Purchaser_id = ocr.ocr('./temp/Purchaser_id.jpg')\n",
    "if len(Purchaser_id) == 0:\n",
    "    print('')\n",
    "else:\n",
    "    print(Purchaser_id[0]['text'].replace(\" \", \"\"))\n",
    "# ocr.ocr('./temp/Purchaser_id.jpg')[0]['text'].replace(\" \", \"\")"
   ]
  },
  {
   "cell_type": "code",
   "execution_count": 73,
   "id": "9b72dee6",
   "metadata": {},
   "outputs": [
    {
     "data": {
      "text/plain": [
       "'032002000711'"
      ]
     },
     "execution_count": 73,
     "metadata": {},
     "output_type": "execute_result"
    }
   ],
   "source": [
    "# Invoice_code\n",
    "ocr.ocr('./temp/Invoice_code.jpg')[0]['text'].replace(\" \", \"\").replace('O', '0')"
   ]
  },
  {
   "cell_type": "code",
   "execution_count": 74,
   "id": "7f903bf5",
   "metadata": {},
   "outputs": [
    {
     "data": {
      "text/plain": [
       "'80933923'"
      ]
     },
     "execution_count": 74,
     "metadata": {},
     "output_type": "execute_result"
    }
   ],
   "source": [
    "# Invoice_id\n",
    "ocr.ocr('./temp/Invoice_id.jpg')[0]['text'].replace(\" \", \"\").replace('O', '0')"
   ]
  },
  {
   "cell_type": "code",
   "execution_count": 75,
   "id": "1e145700",
   "metadata": {},
   "outputs": [
    {
     "data": {
      "text/plain": [
       "'2021年05月17日'"
      ]
     },
     "execution_count": 75,
     "metadata": {},
     "output_type": "execute_result"
    }
   ],
   "source": [
    "# Date\n",
    "ocr.ocr('./temp/Date.jpg')[0]['text'].replace(\" \", \"\").replace('O', '0')"
   ]
  },
  {
   "cell_type": "code",
   "execution_count": 76,
   "id": "da7c5417",
   "metadata": {},
   "outputs": [
    {
     "data": {
      "text/plain": [
       "'*计算机配套产品*配件 Apple Penci\\n1\\n*计算机配套产品*配件 Apple Penci\\n1'"
      ]
     },
     "execution_count": 76,
     "metadata": {},
     "output_type": "execute_result"
    }
   ],
   "source": [
    "# Commodity\n",
    "out = ocr.ocr('./temp/Commodity.jpg')\n",
    "text = ''\n",
    "for i in range(len(out)):\n",
    "    if i == 0:\n",
    "        text = text + out[i]['text']\n",
    "    else:\n",
    "        text = text + '\\n' + out[i]['text']\n",
    "text"
   ]
  },
  {
   "cell_type": "code",
   "execution_count": 77,
   "id": "69f39edd",
   "metadata": {},
   "outputs": [
    {
     "data": {
      "text/plain": [
       "'苹果贸易（上海）有限公司苏州星洲街分公司'"
      ]
     },
     "execution_count": 77,
     "metadata": {},
     "output_type": "execute_result"
    }
   ],
   "source": [
    "# Seller_name\n",
    "ocr.ocr('./temp/Seller_name.jpg')[0]['text']"
   ]
  },
  {
   "cell_type": "code",
   "execution_count": 78,
   "id": "dd701bcb",
   "metadata": {},
   "outputs": [
    {
     "data": {
      "text/plain": [
       "'91320594MA1Q1QAE78'"
      ]
     },
     "execution_count": 78,
     "metadata": {},
     "output_type": "execute_result"
    }
   ],
   "source": [
    "# Seller_id\n",
    "ocr.ocr('./temp/Seller_id.jpg')[0]['text'].replace(\" \", \"\")"
   ]
  },
  {
   "cell_type": "code",
   "execution_count": 79,
   "id": "39f421f9",
   "metadata": {},
   "outputs": [
    {
     "data": {
      "text/plain": [
       "'570.80'"
      ]
     },
     "execution_count": 79,
     "metadata": {},
     "output_type": "execute_result"
    }
   ],
   "source": [
    "# Amount_before_tax\n",
    "ocr.ocr('./temp/Amount_before_tax.jpg')[0]['text'].replace(\" \", \"\")[1:].replace('O', '0')"
   ]
  },
  {
   "cell_type": "code",
   "execution_count": 80,
   "id": "c2e46813",
   "metadata": {},
   "outputs": [
    {
     "data": {
      "text/plain": [
       "'74.20'"
      ]
     },
     "execution_count": 80,
     "metadata": {},
     "output_type": "execute_result"
    }
   ],
   "source": [
    "# Tax\n",
    "ocr.ocr('./temp/Tax.jpg')[0]['text'].replace(\" \", \"\")[1:].replace('O', '0')"
   ]
  },
  {
   "cell_type": "code",
   "execution_count": 81,
   "id": "dd207994",
   "metadata": {},
   "outputs": [
    {
     "data": {
      "text/plain": [
       "'645.00'"
      ]
     },
     "execution_count": 81,
     "metadata": {},
     "output_type": "execute_result"
    }
   ],
   "source": [
    "# Amount\n",
    "ocr.ocr('./temp/Amount.jpg')[0]['text'].replace(\" \", \"\")[1:].replace('O', '0')"
   ]
  },
  {
   "cell_type": "markdown",
   "id": "f4e35a4d",
   "metadata": {},
   "source": [
    "## 写入Excel"
   ]
  },
  {
   "cell_type": "code",
   "execution_count": 43,
   "id": "a4a52347",
   "metadata": {},
   "outputs": [
    {
     "data": {
      "text/plain": [
       "[{'text': '*乙醇汽油*92号车用乙醇汽油(E10)', 'score': 0.7484189867973328},\n",
       " {'text': '（VIA)', 'score': 0.532661497592926}]"
      ]
     },
     "execution_count": 43,
     "metadata": {},
     "output_type": "execute_result"
    }
   ],
   "source": [
    "out = ocr.ocr('Snipaste_2022-11-27_20-50-04.png')\n",
    "\n",
    "out"
   ]
  },
  {
   "cell_type": "code",
   "execution_count": 46,
   "id": "42aefaa4",
   "metadata": {},
   "outputs": [
    {
     "data": {
      "text/plain": [
       "'*乙醇汽油*92号车用乙醇汽油(E10)\\n（VIA)'"
      ]
     },
     "execution_count": 46,
     "metadata": {},
     "output_type": "execute_result"
    }
   ],
   "source": [
    "text = ''\n",
    "for i in range(len(out)):\n",
    "    if i == 0:\n",
    "        text = text + out[i]['text']\n",
    "    else:\n",
    "        text = text + '\\n' + out[i]['text']\n",
    "text"
   ]
  },
  {
   "cell_type": "code",
   "execution_count": 57,
   "id": "315487ec",
   "metadata": {},
   "outputs": [
    {
     "data": {
      "text/plain": [
       "'91321324762815329C'"
      ]
     },
     "execution_count": 57,
     "metadata": {},
     "output_type": "execute_result"
    }
   ],
   "source": [
    "'913213 247 62815329C'.replace(\" \", \"\")"
   ]
  },
  {
   "cell_type": "code",
   "execution_count": null,
   "id": "a46a04b4",
   "metadata": {},
   "outputs": [],
   "source": []
  }
 ],
 "metadata": {
  "kernelspec": {
   "display_name": "Python 3 (ipykernel)",
   "language": "python",
   "name": "python3"
  },
  "language_info": {
   "codemirror_mode": {
    "name": "ipython",
    "version": 3
   },
   "file_extension": ".py",
   "mimetype": "text/x-python",
   "name": "python",
   "nbconvert_exporter": "python",
   "pygments_lexer": "ipython3",
   "version": "3.10.8"
  }
 },
 "nbformat": 4,
 "nbformat_minor": 5
}
